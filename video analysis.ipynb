{
 "cells": [
  {
   "cell_type": "code",
   "execution_count": 1,
   "metadata": {},
   "outputs": [],
   "source": [
    "import pandas as pd\n",
    "import numpy as np\n",
    "import matplotlib.pyplot as plt"
   ]
  },
  {
   "cell_type": "code",
   "execution_count": 2,
   "metadata": {},
   "outputs": [
    {
     "name": "stdout",
     "output_type": "stream",
     "text": [
      "          video_id trending_date  \\\n",
      "0      kzwfHumJyYc      17.14.11   \n",
      "1      zUZ1z7FwLc8      17.14.11   \n",
      "2      10L1hZ9qa58      17.14.11   \n",
      "3      N1vE8iiEg64      17.14.11   \n",
      "4      kJzGH0PVQHQ      17.14.11   \n",
      "...            ...           ...   \n",
      "37347  iNHecA3PJCo      18.14.06   \n",
      "37348  dpPmPbhcslM      18.14.06   \n",
      "37349  mV6aztP58f8      18.14.06   \n",
      "37350  qxqDNP1bDEw      18.14.06   \n",
      "37351  wERgpPK44w0      18.14.06   \n",
      "\n",
      "                                                   title       channel_title  \\\n",
      "0      Sharry Mann: Cute Munda ( Song Teaser) | Parmi...     Lokdhun Punjabi   \n",
      "1      पीरियड्स के समय, पेट पर पति करता ऐसा, देखकर दं...             HJ NEWS   \n",
      "2      Stylish Star Allu Arjun @ ChaySam Wedding Rece...                TFPC   \n",
      "3                         Eruma Saani | Tamil vs English         Eruma Saani   \n",
      "4      why Samantha became EMOTIONAL @ Samantha naga ...          Filmylooks   \n",
      "...                                                  ...                 ...   \n",
      "37347  फेकू आशिक़ - राजस्थान की सबसे शानदार कॉमेडी | ...      RDC Rajasthani   \n",
      "37348                         Seetha | Flowers | Ep# 364          Flowers TV   \n",
      "37349  Bhramanam I Episode 87 - 12 June 2018 I Mazhav...   Mazhavil Manorama   \n",
      "37350  Nua Bohu | Full Ep 285 | 13th June 2018 | Odia...           Tarang TV   \n",
      "37351  Ee Nagaraniki Emaindi Trailer | Tharun Bhascke...  Suresh Productions   \n",
      "\n",
      "       category_id              publish_time  \\\n",
      "0                1  2017-11-12T12:20:39.000Z   \n",
      "1               25  2017-11-13T05:43:56.000Z   \n",
      "2               24  2017-11-12T15:48:08.000Z   \n",
      "3               23  2017-11-12T07:08:48.000Z   \n",
      "4               24  2017-11-13T01:14:16.000Z   \n",
      "...            ...                       ...   \n",
      "37347           23  2018-06-13T08:01:11.000Z   \n",
      "37348           24  2018-06-13T11:30:04.000Z   \n",
      "37349           24  2018-06-13T05:00:02.000Z   \n",
      "37350           24  2018-06-13T15:07:49.000Z   \n",
      "37351           24  2018-06-10T04:29:54.000Z   \n",
      "\n",
      "                                                    tags    views  likes  \\\n",
      "0      sharry mann|\"sharry mann new song\"|\"sharry man...  1096327  33966   \n",
      "1      पीरियड्स के समय|\"पेट पर पति करता ऐसा\"|\"देखकर द...   590101    735   \n",
      "2      Stylish Star Allu Arjun @ ChaySam Wedding Rece...   473988   2011   \n",
      "3      Eruma Saani|\"Tamil Comedy Videos\"|\"Films\"|\"Mov...  1242680  70353   \n",
      "4      Filmylooks|\"latest news\"|\"telugu movies\"|\"telu...   464015    492   \n",
      "...                                                  ...      ...    ...   \n",
      "37347  twinkle vaishnav comedy|\"twinkle vaishnav\"|\"tw...   214378   3291   \n",
      "37348  flowers serials|\"actress\"|\"malayalam serials\"|...   406828   1726   \n",
      "37349  mazhavil manorama|\"bhramanam full episode\"|\"gt...   386319   1216   \n",
      "37350  tarang|\"tarang tv\"|\"tarang tv online\"|\"tarang ...   130263    698   \n",
      "37351  Ee Nagaraniki Emaindi|\"Ee Nagaraniki Emaindi T...  1278249  22466   \n",
      "\n",
      "       dislikes  comment_count  \\\n",
      "0           798            882   \n",
      "1           904              0   \n",
      "2           243            149   \n",
      "3          1624           2684   \n",
      "4           293             66   \n",
      "...         ...            ...   \n",
      "37347       404            196   \n",
      "37348       478           1428   \n",
      "37349       453            697   \n",
      "37350       115             65   \n",
      "37351      1609           1205   \n",
      "\n",
      "                                       thumbnail_link  comments_disabled  \\\n",
      "0      https://i.ytimg.com/vi/kzwfHumJyYc/default.jpg              False   \n",
      "1      https://i.ytimg.com/vi/zUZ1z7FwLc8/default.jpg               True   \n",
      "2      https://i.ytimg.com/vi/10L1hZ9qa58/default.jpg              False   \n",
      "3      https://i.ytimg.com/vi/N1vE8iiEg64/default.jpg              False   \n",
      "4      https://i.ytimg.com/vi/kJzGH0PVQHQ/default.jpg              False   \n",
      "...                                               ...                ...   \n",
      "37347  https://i.ytimg.com/vi/iNHecA3PJCo/default.jpg              False   \n",
      "37348  https://i.ytimg.com/vi/dpPmPbhcslM/default.jpg              False   \n",
      "37349  https://i.ytimg.com/vi/mV6aztP58f8/default.jpg              False   \n",
      "37350  https://i.ytimg.com/vi/qxqDNP1bDEw/default.jpg              False   \n",
      "37351  https://i.ytimg.com/vi/wERgpPK44w0/default.jpg              False   \n",
      "\n",
      "       ratings_disabled  video_error_or_removed  \\\n",
      "0                 False                   False   \n",
      "1                 False                   False   \n",
      "2                 False                   False   \n",
      "3                 False                   False   \n",
      "4                 False                   False   \n",
      "...                 ...                     ...   \n",
      "37347             False                   False   \n",
      "37348             False                   False   \n",
      "37349             False                   False   \n",
      "37350             False                   False   \n",
      "37351             False                   False   \n",
      "\n",
      "                                             description  \n",
      "0      Presenting Sharry Mann latest Punjabi Song  Cu...  \n",
      "1      पीरियड्स के समय, पेट पर पति करता ऐसा, देखकर दं...  \n",
      "2      Watch Stylish Star Allu Arjun @ ChaySam Weddin...  \n",
      "3      This video showcases the difference between pe...  \n",
      "4      why Samantha became EMOTIONAL @ Samantha naga ...  \n",
      "...                                                  ...  \n",
      "37347  PRG Music & RDC Rajasthani presents फेकू आशिक़...  \n",
      "37348  Flowers - A R Rahman Show,Book your Tickets He...  \n",
      "37349  Subscribe to Mazhavil Manorama now for your da...  \n",
      "37350  Nuabohu : Story of a rustic village girl who w...  \n",
      "37351  Check out Ee Nagaraniki Emaindi Trailer #EeNag...  \n",
      "\n",
      "[37352 rows x 16 columns]\n"
     ]
    }
   ],
   "source": [
    "vd = pd.read_csv(\"Invideos.csv\")\n",
    "print(vd)"
   ]
  },
  {
   "cell_type": "code",
   "execution_count": 6,
   "metadata": {},
   "outputs": [
    {
     "data": {
      "text/plain": [
       "Index(['video_id', 'trending_date', 'title', 'channel_title', 'category_id',\n",
       "       'publish_time', 'tags', 'views', 'likes', 'dislikes', 'comment_count',\n",
       "       'thumbnail_link', 'comments_disabled', 'ratings_disabled',\n",
       "       'video_error_or_removed', 'description'],\n",
       "      dtype='object')"
      ]
     },
     "execution_count": 6,
     "metadata": {},
     "output_type": "execute_result"
    }
   ],
   "source": [
    "vd.columns"
   ]
  },
  {
   "cell_type": "code",
   "execution_count": 3,
   "metadata": {},
   "outputs": [
    {
     "data": {
      "text/plain": [
       "video_id                  False\n",
       "trending_date             False\n",
       "title                     False\n",
       "channel_title             False\n",
       "category_id               False\n",
       "publish_time              False\n",
       "tags                      False\n",
       "views                     False\n",
       "likes                     False\n",
       "dislikes                  False\n",
       "comment_count             False\n",
       "thumbnail_link            False\n",
       "comments_disabled         False\n",
       "ratings_disabled          False\n",
       "video_error_or_removed    False\n",
       "description                True\n",
       "dtype: bool"
      ]
     },
     "execution_count": 3,
     "metadata": {},
     "output_type": "execute_result"
    }
   ],
   "source": [
    "vd.isnull().any()"
   ]
  },
  {
   "cell_type": "code",
   "execution_count": 10,
   "metadata": {},
   "outputs": [],
   "source": [
    "vd[\"description\"] = vd[\"description\"].fillna(value = \"This Video Has No Description\")"
   ]
  },
  {
   "cell_type": "code",
   "execution_count": 11,
   "metadata": {},
   "outputs": [
    {
     "data": {
      "text/plain": [
       "video_id                  False\n",
       "trending_date             False\n",
       "title                     False\n",
       "channel_title             False\n",
       "category_id               False\n",
       "publish_time              False\n",
       "tags                      False\n",
       "views                     False\n",
       "likes                     False\n",
       "dislikes                  False\n",
       "comment_count             False\n",
       "thumbnail_link            False\n",
       "comments_disabled         False\n",
       "ratings_disabled          False\n",
       "video_error_or_removed    False\n",
       "description               False\n",
       "dtype: bool"
      ]
     },
     "execution_count": 11,
     "metadata": {},
     "output_type": "execute_result"
    }
   ],
   "source": [
    "vd.isnull().any()"
   ]
  },
  {
   "cell_type": "code",
   "execution_count": 12,
   "metadata": {},
   "outputs": [
    {
     "name": "stdout",
     "output_type": "stream",
     "text": [
      "<class 'pandas.core.frame.DataFrame'>\n",
      "RangeIndex: 37352 entries, 0 to 37351\n",
      "Data columns (total 16 columns):\n",
      " #   Column                  Non-Null Count  Dtype \n",
      "---  ------                  --------------  ----- \n",
      " 0   video_id                37352 non-null  object\n",
      " 1   trending_date           37352 non-null  object\n",
      " 2   title                   37352 non-null  object\n",
      " 3   channel_title           37352 non-null  object\n",
      " 4   category_id             37352 non-null  int64 \n",
      " 5   publish_time            37352 non-null  object\n",
      " 6   tags                    37352 non-null  object\n",
      " 7   views                   37352 non-null  int64 \n",
      " 8   likes                   37352 non-null  int64 \n",
      " 9   dislikes                37352 non-null  int64 \n",
      " 10  comment_count           37352 non-null  int64 \n",
      " 11  thumbnail_link          37352 non-null  object\n",
      " 12  comments_disabled       37352 non-null  bool  \n",
      " 13  ratings_disabled        37352 non-null  bool  \n",
      " 14  video_error_or_removed  37352 non-null  bool  \n",
      " 15  description             37352 non-null  object\n",
      "dtypes: bool(3), int64(5), object(8)\n",
      "memory usage: 3.8+ MB\n"
     ]
    }
   ],
   "source": [
    "vd.info()"
   ]
  },
  {
   "cell_type": "code",
   "execution_count": 9,
   "metadata": {},
   "outputs": [],
   "source": [
    "# which year was data collected\n",
    "vdata = vd[\"trending_date\"].apply(lambda x : \"20\"+x[:2]).value_counts().to_frame().reset_index().rename(columns = {\"index\":\"year\", \"trending_date\":\"no_of_videos\"})"
   ]
  },
  {
   "cell_type": "code",
   "execution_count": 12,
   "metadata": {},
   "outputs": [
    {
     "data": {
      "text/plain": [
       "<BarContainer object of 2 artists>"
      ]
     },
     "execution_count": 12,
     "metadata": {},
     "output_type": "execute_result"
    },
    {
     "data": {
      "image/png": "[encoded data removed]",
      "text/plain": [
       "<Figure size 432x288 with 1 Axes>"
      ]
     },
     "metadata": {
      "needs_background": "light"
     },
     "output_type": "display_data"
    }
   ],
   "source": [
    "plt.bar(vdata[\"year\"], vdata[\"no_of_videos\"])"
   ]
  },
  {
   "cell_type": "code",
   "execution_count": 13,
   "metadata": {},
   "outputs": [
    {
     "data": {
      "text/plain": [
       "2018    0.757469\n",
       "2017    0.242531\n",
       "Name: trending_date, dtype: float64"
      ]
     },
     "execution_count": 13,
     "metadata": {},
     "output_type": "execute_result"
    }
   ],
   "source": [
    "vd[\"trending_date\"].apply(lambda x: \"20\"+x[:2]).value_counts(normalize = True)"
   ]
  },
  {
   "cell_type": "code",
   "execution_count": 15,
   "metadata": {},
   "outputs": [
    {
     "data": {
      "text/html": [
       "<div>\n",
       "<style scoped>\n",
       "    .dataframe tbody tr th:only-of-type {\n",
       "        vertical-align: middle;\n",
       "    }\n",
       "\n",
       "    .dataframe tbody tr th {\n",
       "        vertical-align: top;\n",
       "    }\n",
       "\n",
       "    .dataframe thead th {\n",
       "        text-align: right;\n",
       "    }\n",
       "</style>\n",
       "<table border=\"1\" class=\"dataframe\">\n",
       "  <thead>\n",
       "    <tr style=\"text-align: right;\">\n",
       "      <th></th>\n",
       "      <th>category_id</th>\n",
       "      <th>views</th>\n",
       "      <th>likes</th>\n",
       "      <th>dislikes</th>\n",
       "      <th>comment_count</th>\n",
       "    </tr>\n",
       "  </thead>\n",
       "  <tbody>\n",
       "    <tr>\n",
       "      <th>count</th>\n",
       "      <td>37352.000000</td>\n",
       "      <td>3.735200e+04</td>\n",
       "      <td>3.735200e+04</td>\n",
       "      <td>3.735200e+04</td>\n",
       "      <td>37352.00000</td>\n",
       "    </tr>\n",
       "    <tr>\n",
       "      <th>mean</th>\n",
       "      <td>21.576596</td>\n",
       "      <td>1.060478e+06</td>\n",
       "      <td>2.708272e+04</td>\n",
       "      <td>1.665082e+03</td>\n",
       "      <td>2676.99743</td>\n",
       "    </tr>\n",
       "    <tr>\n",
       "      <th>std</th>\n",
       "      <td>6.556593</td>\n",
       "      <td>3.184932e+06</td>\n",
       "      <td>9.714510e+04</td>\n",
       "      <td>1.607617e+04</td>\n",
       "      <td>14868.31713</td>\n",
       "    </tr>\n",
       "    <tr>\n",
       "      <th>min</th>\n",
       "      <td>1.000000</td>\n",
       "      <td>4.024000e+03</td>\n",
       "      <td>0.000000e+00</td>\n",
       "      <td>0.000000e+00</td>\n",
       "      <td>0.00000</td>\n",
       "    </tr>\n",
       "    <tr>\n",
       "      <th>25%</th>\n",
       "      <td>23.000000</td>\n",
       "      <td>1.239155e+05</td>\n",
       "      <td>8.640000e+02</td>\n",
       "      <td>1.080000e+02</td>\n",
       "      <td>81.00000</td>\n",
       "    </tr>\n",
       "    <tr>\n",
       "      <th>50%</th>\n",
       "      <td>24.000000</td>\n",
       "      <td>3.045860e+05</td>\n",
       "      <td>3.069000e+03</td>\n",
       "      <td>3.260000e+02</td>\n",
       "      <td>329.00000</td>\n",
       "    </tr>\n",
       "    <tr>\n",
       "      <th>75%</th>\n",
       "      <td>24.000000</td>\n",
       "      <td>7.992912e+05</td>\n",
       "      <td>1.377425e+04</td>\n",
       "      <td>1.019250e+03</td>\n",
       "      <td>1285.00000</td>\n",
       "    </tr>\n",
       "    <tr>\n",
       "      <th>max</th>\n",
       "      <td>43.000000</td>\n",
       "      <td>1.254322e+08</td>\n",
       "      <td>2.912710e+06</td>\n",
       "      <td>1.545017e+06</td>\n",
       "      <td>827755.00000</td>\n",
       "    </tr>\n",
       "  </tbody>\n",
       "</table>\n",
       "</div>"
      ],
      "text/plain": [
       "        category_id         views         likes      dislikes  comment_count\n",
       "count  37352.000000  3.735200e+04  3.735200e+04  3.735200e+04    37352.00000\n",
       "mean      21.576596  1.060478e+06  2.708272e+04  1.665082e+03     2676.99743\n",
       "std        6.556593  3.184932e+06  9.714510e+04  1.607617e+04    14868.31713\n",
       "min        1.000000  4.024000e+03  0.000000e+00  0.000000e+00        0.00000\n",
       "25%       23.000000  1.239155e+05  8.640000e+02  1.080000e+02       81.00000\n",
       "50%       24.000000  3.045860e+05  3.069000e+03  3.260000e+02      329.00000\n",
       "75%       24.000000  7.992912e+05  1.377425e+04  1.019250e+03     1285.00000\n",
       "max       43.000000  1.254322e+08  2.912710e+06  1.545017e+06   827755.00000"
      ]
     },
     "execution_count": 15,
     "metadata": {},
     "output_type": "execute_result"
    }
   ],
   "source": [
    "#description\n",
    "vd.describe()"
   ]
  },
  {
   "cell_type": "code",
   "execution_count": 16,
   "metadata": {},
   "outputs": [
    {
     "data": {
      "text/plain": [
       "array([[<matplotlib.axes._subplots.AxesSubplot object at 0x000001B9DDC91910>]],\n",
       "      dtype=object)"
      ]
     },
     "execution_count": 16,
     "metadata": {},
     "output_type": "execute_result"
    },
    {
     "data": {
      "image/png": "[encoded data removed]",
      "text/plain": [
       "<Figure size 432x288 with 1 Axes>"
      ]
     },
     "metadata": {
      "needs_background": "light"
     },
     "output_type": "display_data"
    }
   ],
   "source": [
    "vd.hist(\"views\")"
   ]
  },
  {
   "cell_type": "code",
   "execution_count": 23,
   "metadata": {},
   "outputs": [
    {
     "data": {
      "text/plain": [
       "20.43264082244592"
      ]
     },
     "execution_count": 23,
     "metadata": {},
     "output_type": "execute_result"
    }
   ],
   "source": [
    "#number of videos less than 1mil views\n",
    "vd[vd[\"views\"]<1e6][\"views\"].count()/vd[\"views\"].count()*100"
   ]
  },
  {
   "cell_type": "code",
   "execution_count": 25,
   "metadata": {},
   "outputs": [
    {
     "data": {
      "text/plain": [
       "array([[<matplotlib.axes._subplots.AxesSubplot object at 0x000001B9DD9E5640>]],\n",
       "      dtype=object)"
      ]
     },
     "execution_count": 25,
     "metadata": {},
     "output_type": "execute_result"
    },
    {
     "data": {
      "image/png": "[encoded data removed]",
      "text/plain": [
       "<Figure size 432x288 with 1 Axes>"
      ]
     },
     "metadata": {
      "needs_background": "light"
     },
     "output_type": "display_data"
    }
   ],
   "source": [
    "vd.hist(\"likes\")"
   ]
  },
  {
   "cell_type": "code",
   "execution_count": 29,
   "metadata": {},
   "outputs": [
    {
     "data": {
      "text/plain": [
       "10.583101306489612"
      ]
     },
     "execution_count": 29,
     "metadata": {},
     "output_type": "execute_result"
    }
   ],
   "source": [
    "#percentage of videos with >50 likes\n",
    "\n",
    "vd[vd[\"likes\"]>50000][\"likes\"].count()/vd[\"likes\"].count()*100"
   ]
  },
  {
   "cell_type": "code",
   "execution_count": 35,
   "metadata": {
    "scrolled": true
   },
   "outputs": [
    {
     "data": {
      "text/html": [
       "<div>\n",
       "<style scoped>\n",
       "    .dataframe tbody tr th:only-of-type {\n",
       "        vertical-align: middle;\n",
       "    }\n",
       "\n",
       "    .dataframe tbody tr th {\n",
       "        vertical-align: top;\n",
       "    }\n",
       "\n",
       "    .dataframe thead th {\n",
       "        text-align: right;\n",
       "    }\n",
       "</style>\n",
       "<table border=\"1\" class=\"dataframe\">\n",
       "  <thead>\n",
       "    <tr style=\"text-align: right;\">\n",
       "      <th></th>\n",
       "      <th>video_id</th>\n",
       "      <th>trending_date</th>\n",
       "      <th>title</th>\n",
       "      <th>channel_title</th>\n",
       "      <th>publish_time</th>\n",
       "      <th>tags</th>\n",
       "      <th>thumbnail_link</th>\n",
       "      <th>description</th>\n",
       "    </tr>\n",
       "  </thead>\n",
       "  <tbody>\n",
       "    <tr>\n",
       "      <th>count</th>\n",
       "      <td>37352</td>\n",
       "      <td>37352</td>\n",
       "      <td>37352</td>\n",
       "      <td>37352</td>\n",
       "      <td>37352</td>\n",
       "      <td>37352</td>\n",
       "      <td>37352</td>\n",
       "      <td>36791</td>\n",
       "    </tr>\n",
       "    <tr>\n",
       "      <th>unique</th>\n",
       "      <td>16307</td>\n",
       "      <td>205</td>\n",
       "      <td>16721</td>\n",
       "      <td>1426</td>\n",
       "      <td>16339</td>\n",
       "      <td>12578</td>\n",
       "      <td>16523</td>\n",
       "      <td>13992</td>\n",
       "    </tr>\n",
       "    <tr>\n",
       "      <th>top</th>\n",
       "      <td>#NAME?</td>\n",
       "      <td>18.13.01</td>\n",
       "      <td>Mission: Impossible - Fallout (2018) - Officia...</td>\n",
       "      <td>VikatanTV</td>\n",
       "      <td>2018-04-21T13:30:01.000Z</td>\n",
       "      <td>[none]</td>\n",
       "      <td>https://i.ytimg.com/vi/rRr1qiJRsXk/default.jpg</td>\n",
       "      <td>Subscribers Link: http://bit.ly/2qb69dZ\\n\\nCon...</td>\n",
       "    </tr>\n",
       "    <tr>\n",
       "      <th>freq</th>\n",
       "      <td>511</td>\n",
       "      <td>200</td>\n",
       "      <td>19</td>\n",
       "      <td>284</td>\n",
       "      <td>18</td>\n",
       "      <td>1381</td>\n",
       "      <td>16</td>\n",
       "      <td>166</td>\n",
       "    </tr>\n",
       "  </tbody>\n",
       "</table>\n",
       "</div>"
      ],
      "text/plain": [
       "       video_id trending_date  \\\n",
       "count     37352         37352   \n",
       "unique    16307           205   \n",
       "top      #NAME?      18.13.01   \n",
       "freq        511           200   \n",
       "\n",
       "                                                    title channel_title  \\\n",
       "count                                               37352         37352   \n",
       "unique                                              16721          1426   \n",
       "top     Mission: Impossible - Fallout (2018) - Officia...     VikatanTV   \n",
       "freq                                                   19           284   \n",
       "\n",
       "                    publish_time    tags  \\\n",
       "count                      37352   37352   \n",
       "unique                     16339   12578   \n",
       "top     2018-04-21T13:30:01.000Z  [none]   \n",
       "freq                          18    1381   \n",
       "\n",
       "                                        thumbnail_link  \\\n",
       "count                                            37352   \n",
       "unique                                           16523   \n",
       "top     https://i.ytimg.com/vi/rRr1qiJRsXk/default.jpg   \n",
       "freq                                                16   \n",
       "\n",
       "                                              description  \n",
       "count                                               36791  \n",
       "unique                                              13992  \n",
       "top     Subscribers Link: http://bit.ly/2qb69dZ\\n\\nCon...  \n",
       "freq                                                  166  "
      ]
     },
     "execution_count": 35,
     "metadata": {},
     "output_type": "execute_result"
    }
   ],
   "source": [
    "vd.describe(include = 'O')"
   ]
  },
  {
   "cell_type": "code",
   "execution_count": 40,
   "metadata": {},
   "outputs": [],
   "source": [
    "# title length\n",
    "vd[\"title_length\"] = vd[\"title\"].apply(lambda x :len(x))"
   ]
  },
  {
   "cell_type": "code",
   "execution_count": 42,
   "metadata": {},
   "outputs": [
    {
     "data": {
      "text/plain": [
       "Index(['video_id', 'trending_date', 'title', 'channel_title', 'category_id',\n",
       "       'publish_time', 'tags', 'views', 'likes', 'dislikes', 'comment_count',\n",
       "       'thumbnail_link', 'comments_disabled', 'ratings_disabled',\n",
       "       'video_error_or_removed', 'description', 'title_length'],\n",
       "      dtype='object')"
      ]
     },
     "execution_count": 42,
     "metadata": {},
     "output_type": "execute_result"
    }
   ],
   "source": [
    "vd.columns"
   ]
  },
  {
   "cell_type": "code",
   "execution_count": 44,
   "metadata": {},
   "outputs": [
    {
     "data": {
      "text/plain": [
       "<matplotlib.axes._subplots.AxesSubplot at 0x1b9ddb5eb50>"
      ]
     },
     "execution_count": 44,
     "metadata": {},
     "output_type": "execute_result"
    },
    {
     "data": {
      "image/png": "[encoded data removed]",
      "text/plain": [
       "<Figure size 432x288 with 1 Axes>"
      ]
     },
     "metadata": {
      "needs_background": "light"
     },
     "output_type": "display_data"
    }
   ],
   "source": [
    "vd.boxplot(\"title_length\")"
   ]
  },
  {
   "cell_type": "code",
   "execution_count": 47,
   "metadata": {},
   "outputs": [
    {
     "data": {
      "text/plain": [
       "<matplotlib.collections.PathCollection at 0x1b9ddd562e0>"
      ]
     },
     "execution_count": 47,
     "metadata": {},
     "output_type": "execute_result"
    },
    {
     "data": {
      "image/png": "[encoded data removed]",
      "text/plain": [
       "<Figure size 432x288 with 1 Axes>"
      ]
     },
     "metadata": {
      "needs_background": "light"
     },
     "output_type": "display_data"
    }
   ],
   "source": [
    "# is there any relation between title lengths and no of views\n",
    "\n",
    "plt.scatter(vd[\"title_length\"], vd[\"views\"])"
   ]
  },
  {
   "cell_type": "code",
   "execution_count": 4,
   "metadata": {},
   "outputs": [
    {
     "data": {
      "text/html": [
       "<div>\n",
       "<style scoped>\n",
       "    .dataframe tbody tr th:only-of-type {\n",
       "        vertical-align: middle;\n",
       "    }\n",
       "\n",
       "    .dataframe tbody tr th {\n",
       "        vertical-align: top;\n",
       "    }\n",
       "\n",
       "    .dataframe thead th {\n",
       "        text-align: right;\n",
       "    }\n",
       "</style>\n",
       "<table border=\"1\" class=\"dataframe\">\n",
       "  <thead>\n",
       "    <tr style=\"text-align: right;\">\n",
       "      <th></th>\n",
       "      <th>category_id</th>\n",
       "      <th>views</th>\n",
       "      <th>likes</th>\n",
       "      <th>dislikes</th>\n",
       "      <th>comment_count</th>\n",
       "      <th>comments_disabled</th>\n",
       "      <th>ratings_disabled</th>\n",
       "      <th>video_error_or_removed</th>\n",
       "    </tr>\n",
       "  </thead>\n",
       "  <tbody>\n",
       "    <tr>\n",
       "      <th>category_id</th>\n",
       "      <td>1.000000</td>\n",
       "      <td>-0.183215</td>\n",
       "      <td>-0.127600</td>\n",
       "      <td>-0.042450</td>\n",
       "      <td>-0.036223</td>\n",
       "      <td>0.038928</td>\n",
       "      <td>0.057953</td>\n",
       "      <td>-0.053865</td>\n",
       "    </tr>\n",
       "    <tr>\n",
       "      <th>views</th>\n",
       "      <td>-0.183215</td>\n",
       "      <td>1.000000</td>\n",
       "      <td>0.850096</td>\n",
       "      <td>0.543294</td>\n",
       "      <td>0.674195</td>\n",
       "      <td>-0.034227</td>\n",
       "      <td>-0.034364</td>\n",
       "      <td>0.004976</td>\n",
       "    </tr>\n",
       "    <tr>\n",
       "      <th>likes</th>\n",
       "      <td>-0.127600</td>\n",
       "      <td>0.850096</td>\n",
       "      <td>1.000000</td>\n",
       "      <td>0.494560</td>\n",
       "      <td>0.780514</td>\n",
       "      <td>-0.045624</td>\n",
       "      <td>-0.040741</td>\n",
       "      <td>0.028464</td>\n",
       "    </tr>\n",
       "    <tr>\n",
       "      <th>dislikes</th>\n",
       "      <td>-0.042450</td>\n",
       "      <td>0.543294</td>\n",
       "      <td>0.494560</td>\n",
       "      <td>1.000000</td>\n",
       "      <td>0.708125</td>\n",
       "      <td>-0.011821</td>\n",
       "      <td>-0.015136</td>\n",
       "      <td>0.002985</td>\n",
       "    </tr>\n",
       "    <tr>\n",
       "      <th>comment_count</th>\n",
       "      <td>-0.036223</td>\n",
       "      <td>0.674195</td>\n",
       "      <td>0.780514</td>\n",
       "      <td>0.708125</td>\n",
       "      <td>1.000000</td>\n",
       "      <td>-0.032860</td>\n",
       "      <td>-0.024210</td>\n",
       "      <td>0.015771</td>\n",
       "    </tr>\n",
       "    <tr>\n",
       "      <th>comments_disabled</th>\n",
       "      <td>0.038928</td>\n",
       "      <td>-0.034227</td>\n",
       "      <td>-0.045624</td>\n",
       "      <td>-0.011821</td>\n",
       "      <td>-0.032860</td>\n",
       "      <td>1.000000</td>\n",
       "      <td>0.354718</td>\n",
       "      <td>-0.003132</td>\n",
       "    </tr>\n",
       "    <tr>\n",
       "      <th>ratings_disabled</th>\n",
       "      <td>0.057953</td>\n",
       "      <td>-0.034364</td>\n",
       "      <td>-0.040741</td>\n",
       "      <td>-0.015136</td>\n",
       "      <td>-0.024210</td>\n",
       "      <td>0.354718</td>\n",
       "      <td>1.000000</td>\n",
       "      <td>-0.002508</td>\n",
       "    </tr>\n",
       "    <tr>\n",
       "      <th>video_error_or_removed</th>\n",
       "      <td>-0.053865</td>\n",
       "      <td>0.004976</td>\n",
       "      <td>0.028464</td>\n",
       "      <td>0.002985</td>\n",
       "      <td>0.015771</td>\n",
       "      <td>-0.003132</td>\n",
       "      <td>-0.002508</td>\n",
       "      <td>1.000000</td>\n",
       "    </tr>\n",
       "  </tbody>\n",
       "</table>\n",
       "</div>"
      ],
      "text/plain": [
       "                        category_id     views     likes  dislikes  \\\n",
       "category_id                1.000000 -0.183215 -0.127600 -0.042450   \n",
       "views                     -0.183215  1.000000  0.850096  0.543294   \n",
       "likes                     -0.127600  0.850096  1.000000  0.494560   \n",
       "dislikes                  -0.042450  0.543294  0.494560  1.000000   \n",
       "comment_count             -0.036223  0.674195  0.780514  0.708125   \n",
       "comments_disabled          0.038928 -0.034227 -0.045624 -0.011821   \n",
       "ratings_disabled           0.057953 -0.034364 -0.040741 -0.015136   \n",
       "video_error_or_removed    -0.053865  0.004976  0.028464  0.002985   \n",
       "\n",
       "                        comment_count  comments_disabled  ratings_disabled  \\\n",
       "category_id                 -0.036223           0.038928          0.057953   \n",
       "views                        0.674195          -0.034227         -0.034364   \n",
       "likes                        0.780514          -0.045624         -0.040741   \n",
       "dislikes                     0.708125          -0.011821         -0.015136   \n",
       "comment_count                1.000000          -0.032860         -0.024210   \n",
       "comments_disabled           -0.032860           1.000000          0.354718   \n",
       "ratings_disabled            -0.024210           0.354718          1.000000   \n",
       "video_error_or_removed       0.015771          -0.003132         -0.002508   \n",
       "\n",
       "                        video_error_or_removed  \n",
       "category_id                          -0.053865  \n",
       "views                                 0.004976  \n",
       "likes                                 0.028464  \n",
       "dislikes                              0.002985  \n",
       "comment_count                         0.015771  \n",
       "comments_disabled                    -0.003132  \n",
       "ratings_disabled                     -0.002508  \n",
       "video_error_or_removed                1.000000  "
      ]
     },
     "execution_count": 4,
     "metadata": {},
     "output_type": "execute_result"
    }
   ],
   "source": [
    "vd.corr()"
   ]
  },
  {
   "cell_type": "code",
   "execution_count": 5,
   "metadata": {},
   "outputs": [
    {
     "data": {
      "text/html": [
       "<div>\n",
       "<style scoped>\n",
       "    .dataframe tbody tr th:only-of-type {\n",
       "        vertical-align: middle;\n",
       "    }\n",
       "\n",
       "    .dataframe tbody tr th {\n",
       "        vertical-align: top;\n",
       "    }\n",
       "\n",
       "    .dataframe thead th {\n",
       "        text-align: right;\n",
       "    }\n",
       "</style>\n",
       "<table border=\"1\" class=\"dataframe\">\n",
       "  <thead>\n",
       "    <tr style=\"text-align: right;\">\n",
       "      <th></th>\n",
       "      <th>views</th>\n",
       "      <th>likes</th>\n",
       "      <th>dislikes</th>\n",
       "      <th>comment_count</th>\n",
       "      <th>comments_disabled</th>\n",
       "      <th>ratings_disabled</th>\n",
       "      <th>video_error_or_removed</th>\n",
       "    </tr>\n",
       "    <tr>\n",
       "      <th>category_id</th>\n",
       "      <th></th>\n",
       "      <th></th>\n",
       "      <th></th>\n",
       "      <th></th>\n",
       "      <th></th>\n",
       "      <th></th>\n",
       "      <th></th>\n",
       "    </tr>\n",
       "  </thead>\n",
       "  <tbody>\n",
       "    <tr>\n",
       "      <th>1</th>\n",
       "      <td>3847149504</td>\n",
       "      <td>69241553</td>\n",
       "      <td>4315081</td>\n",
       "      <td>5789446</td>\n",
       "      <td>71.0</td>\n",
       "      <td>11.0</td>\n",
       "      <td>11.0</td>\n",
       "    </tr>\n",
       "    <tr>\n",
       "      <th>2</th>\n",
       "      <td>30384725</td>\n",
       "      <td>539571</td>\n",
       "      <td>22284</td>\n",
       "      <td>86488</td>\n",
       "      <td>9.0</td>\n",
       "      <td>2.0</td>\n",
       "      <td>0.0</td>\n",
       "    </tr>\n",
       "    <tr>\n",
       "      <th>10</th>\n",
       "      <td>10150844485</td>\n",
       "      <td>254328536</td>\n",
       "      <td>15030992</td>\n",
       "      <td>17595070</td>\n",
       "      <td>7.0</td>\n",
       "      <td>8.0</td>\n",
       "      <td>0.0</td>\n",
       "    </tr>\n",
       "    <tr>\n",
       "      <th>15</th>\n",
       "      <td>4879743</td>\n",
       "      <td>362534</td>\n",
       "      <td>6488</td>\n",
       "      <td>42056</td>\n",
       "      <td>0.0</td>\n",
       "      <td>0.0</td>\n",
       "      <td>0.0</td>\n",
       "    </tr>\n",
       "    <tr>\n",
       "      <th>17</th>\n",
       "      <td>1379949159</td>\n",
       "      <td>32969986</td>\n",
       "      <td>1316379</td>\n",
       "      <td>2717679</td>\n",
       "      <td>8.0</td>\n",
       "      <td>10.0</td>\n",
       "      <td>0.0</td>\n",
       "    </tr>\n",
       "    <tr>\n",
       "      <th>19</th>\n",
       "      <td>1374342</td>\n",
       "      <td>16939</td>\n",
       "      <td>616</td>\n",
       "      <td>2448</td>\n",
       "      <td>0.0</td>\n",
       "      <td>0.0</td>\n",
       "      <td>0.0</td>\n",
       "    </tr>\n",
       "    <tr>\n",
       "      <th>20</th>\n",
       "      <td>274722506</td>\n",
       "      <td>6707728</td>\n",
       "      <td>341616</td>\n",
       "      <td>623839</td>\n",
       "      <td>0.0</td>\n",
       "      <td>0.0</td>\n",
       "      <td>0.0</td>\n",
       "    </tr>\n",
       "    <tr>\n",
       "      <th>22</th>\n",
       "      <td>1364104242</td>\n",
       "      <td>23194729</td>\n",
       "      <td>1728388</td>\n",
       "      <td>2661920</td>\n",
       "      <td>163.0</td>\n",
       "      <td>107.0</td>\n",
       "      <td>0.0</td>\n",
       "    </tr>\n",
       "    <tr>\n",
       "      <th>23</th>\n",
       "      <td>2887672070</td>\n",
       "      <td>174114686</td>\n",
       "      <td>6976508</td>\n",
       "      <td>13806968</td>\n",
       "      <td>0.0</td>\n",
       "      <td>0.0</td>\n",
       "      <td>0.0</td>\n",
       "    </tr>\n",
       "    <tr>\n",
       "      <th>24</th>\n",
       "      <td>16120390974</td>\n",
       "      <td>396146637</td>\n",
       "      <td>27428929</td>\n",
       "      <td>42199473</td>\n",
       "      <td>453.0</td>\n",
       "      <td>203.0</td>\n",
       "      <td>0.0</td>\n",
       "    </tr>\n",
       "    <tr>\n",
       "      <th>25</th>\n",
       "      <td>1994263812</td>\n",
       "      <td>15545971</td>\n",
       "      <td>2737604</td>\n",
       "      <td>2954198</td>\n",
       "      <td>255.0</td>\n",
       "      <td>277.0</td>\n",
       "      <td>0.0</td>\n",
       "    </tr>\n",
       "    <tr>\n",
       "      <th>26</th>\n",
       "      <td>737343593</td>\n",
       "      <td>7889210</td>\n",
       "      <td>859807</td>\n",
       "      <td>748899</td>\n",
       "      <td>30.0</td>\n",
       "      <td>16.0</td>\n",
       "      <td>0.0</td>\n",
       "    </tr>\n",
       "    <tr>\n",
       "      <th>27</th>\n",
       "      <td>145533791</td>\n",
       "      <td>7471726</td>\n",
       "      <td>246667</td>\n",
       "      <td>943667</td>\n",
       "      <td>134.0</td>\n",
       "      <td>112.0</td>\n",
       "      <td>0.0</td>\n",
       "    </tr>\n",
       "    <tr>\n",
       "      <th>28</th>\n",
       "      <td>477111016</td>\n",
       "      <td>21395585</td>\n",
       "      <td>913603</td>\n",
       "      <td>9664392</td>\n",
       "      <td>10.0</td>\n",
       "      <td>3.0</td>\n",
       "      <td>0.0</td>\n",
       "    </tr>\n",
       "    <tr>\n",
       "      <th>29</th>\n",
       "      <td>6615156</td>\n",
       "      <td>218112</td>\n",
       "      <td>8730</td>\n",
       "      <td>12844</td>\n",
       "      <td>64.0</td>\n",
       "      <td>31.0</td>\n",
       "      <td>0.0</td>\n",
       "    </tr>\n",
       "    <tr>\n",
       "      <th>30</th>\n",
       "      <td>49040020</td>\n",
       "      <td>662651</td>\n",
       "      <td>34182</td>\n",
       "      <td>36941</td>\n",
       "      <td>0.0</td>\n",
       "      <td>0.0</td>\n",
       "      <td>0.0</td>\n",
       "    </tr>\n",
       "    <tr>\n",
       "      <th>43</th>\n",
       "      <td>139581891</td>\n",
       "      <td>787516</td>\n",
       "      <td>226268</td>\n",
       "      <td>104880</td>\n",
       "      <td>0.0</td>\n",
       "      <td>1.0</td>\n",
       "      <td>0.0</td>\n",
       "    </tr>\n",
       "  </tbody>\n",
       "</table>\n",
       "</div>"
      ],
      "text/plain": [
       "                   views      likes  dislikes  comment_count  \\\n",
       "category_id                                                    \n",
       "1             3847149504   69241553   4315081        5789446   \n",
       "2               30384725     539571     22284          86488   \n",
       "10           10150844485  254328536  15030992       17595070   \n",
       "15               4879743     362534      6488          42056   \n",
       "17            1379949159   32969986   1316379        2717679   \n",
       "19               1374342      16939       616           2448   \n",
       "20             274722506    6707728    341616         623839   \n",
       "22            1364104242   23194729   1728388        2661920   \n",
       "23            2887672070  174114686   6976508       13806968   \n",
       "24           16120390974  396146637  27428929       42199473   \n",
       "25            1994263812   15545971   2737604        2954198   \n",
       "26             737343593    7889210    859807         748899   \n",
       "27             145533791    7471726    246667         943667   \n",
       "28             477111016   21395585    913603        9664392   \n",
       "29               6615156     218112      8730          12844   \n",
       "30              49040020     662651     34182          36941   \n",
       "43             139581891     787516    226268         104880   \n",
       "\n",
       "             comments_disabled  ratings_disabled  video_error_or_removed  \n",
       "category_id                                                               \n",
       "1                         71.0              11.0                    11.0  \n",
       "2                          9.0               2.0                     0.0  \n",
       "10                         7.0               8.0                     0.0  \n",
       "15                         0.0               0.0                     0.0  \n",
       "17                         8.0              10.0                     0.0  \n",
       "19                         0.0               0.0                     0.0  \n",
       "20                         0.0               0.0                     0.0  \n",
       "22                       163.0             107.0                     0.0  \n",
       "23                         0.0               0.0                     0.0  \n",
       "24                       453.0             203.0                     0.0  \n",
       "25                       255.0             277.0                     0.0  \n",
       "26                        30.0              16.0                     0.0  \n",
       "27                       134.0             112.0                     0.0  \n",
       "28                        10.0               3.0                     0.0  \n",
       "29                        64.0              31.0                     0.0  \n",
       "30                         0.0               0.0                     0.0  \n",
       "43                         0.0               1.0                     0.0  "
      ]
     },
     "execution_count": 5,
     "metadata": {},
     "output_type": "execute_result"
    }
   ],
   "source": [
    "# grouping of data based on category id\n",
    "\n",
    "vd.groupby(\"category_id\").sum()"
   ]
  },
  {
   "cell_type": "code",
   "execution_count": 6,
   "metadata": {},
   "outputs": [
    {
     "data": {
      "text/plain": [
       "<BarContainer object of 37352 artists>"
      ]
     },
     "execution_count": 6,
     "metadata": {},
     "output_type": "execute_result"
    },
    {
     "data": {
      "image/png": "[encoded data removed]",
      "text/plain": [
       "<Figure size 432x288 with 1 Axes>"
      ]
     },
     "metadata": {
      "needs_background": "light"
     },
     "output_type": "display_data"
    }
   ],
   "source": [
    "# which category has highest views\n",
    "\n",
    "plt.bar(vd[\"category_id\"], vd[\"views\"])"
   ]
  },
  {
   "cell_type": "code",
   "execution_count": 7,
   "metadata": {},
   "outputs": [
    {
     "data": {
      "text/plain": [
       "<BarContainer object of 37352 artists>"
      ]
     },
     "execution_count": 7,
     "metadata": {},
     "output_type": "execute_result"
    },
    {
     "data": {
      "image/png": "[encoded data removed]",
      "text/plain": [
       "<Figure size 432x288 with 1 Axes>"
      ]
     },
     "metadata": {
      "needs_background": "light"
     },
     "output_type": "display_data"
    }
   ],
   "source": [
    "#which category has highes likes\n",
    "plt.bar(vd[\"category_id\"], vd[\"likes\"])"
   ]
  },
  {
   "cell_type": "code",
   "execution_count": 8,
   "metadata": {},
   "outputs": [
    {
     "name": "stdout",
     "output_type": "stream",
     "text": [
      "<class 'pandas.core.frame.DataFrame'>\n",
      "RangeIndex: 37352 entries, 0 to 37351\n",
      "Data columns (total 16 columns):\n",
      " #   Column                  Non-Null Count  Dtype \n",
      "---  ------                  --------------  ----- \n",
      " 0   video_id                37352 non-null  object\n",
      " 1   trending_date           37352 non-null  object\n",
      " 2   title                   37352 non-null  object\n",
      " 3   channel_title           37352 non-null  object\n",
      " 4   category_id             37352 non-null  int64 \n",
      " 5   publish_time            37352 non-null  object\n",
      " 6   tags                    37352 non-null  object\n",
      " 7   views                   37352 non-null  int64 \n",
      " 8   likes                   37352 non-null  int64 \n",
      " 9   dislikes                37352 non-null  int64 \n",
      " 10  comment_count           37352 non-null  int64 \n",
      " 11  thumbnail_link          37352 non-null  object\n",
      " 12  comments_disabled       37352 non-null  bool  \n",
      " 13  ratings_disabled        37352 non-null  bool  \n",
      " 14  video_error_or_removed  37352 non-null  bool  \n",
      " 15  description             36791 non-null  object\n",
      "dtypes: bool(3), int64(5), object(8)\n",
      "memory usage: 3.8+ MB\n"
     ]
    }
   ],
   "source": [
    "vd.info()"
   ]
  },
  {
   "cell_type": "code",
   "execution_count": 9,
   "metadata": {},
   "outputs": [
    {
     "data": {
      "text/plain": [
       "False    37341\n",
       "True        11\n",
       "Name: video_error_or_removed, dtype: int64"
      ]
     },
     "execution_count": 9,
     "metadata": {},
     "output_type": "execute_result"
    }
   ],
   "source": [
    "# how many videos got removed or had some error\n",
    "\n",
    "vd[\"video_error_or_removed\"].value_counts()\n",
    "\n"
   ]
  },
  {
   "cell_type": "code",
   "execution_count": 11,
   "metadata": {},
   "outputs": [
    {
     "data": {
      "text/plain": [
       "False    0.967766\n",
       "True     0.032234\n",
       "Name: comments_disabled, dtype: float64"
      ]
     },
     "execution_count": 11,
     "metadata": {},
     "output_type": "execute_result"
    }
   ],
   "source": [
    "# percentage of videos tha have comments disabled\n",
    "\n",
    "vd[\"comments_disabled\"].value_counts(normalize = True)"
   ]
  },
  {
   "cell_type": "code",
   "execution_count": 12,
   "metadata": {},
   "outputs": [
    {
     "data": {
      "text/plain": [
       "False    36571\n",
       "True       781\n",
       "Name: ratings_disabled, dtype: int64"
      ]
     },
     "execution_count": 12,
     "metadata": {},
     "output_type": "execute_result"
    }
   ],
   "source": [
    "vd[\"ratings_disabled\"].value_counts()"
   ]
  },
  {
   "cell_type": "code",
   "execution_count": 17,
   "metadata": {},
   "outputs": [
    {
     "data": {
      "text/plain": [
       "588"
      ]
     },
     "execution_count": 17,
     "metadata": {},
     "output_type": "execute_result"
    }
   ],
   "source": [
    "# how many videos have both comments and ratings disabled\n",
    "len(vd[(vd[\"comments_disabled\"] == True) & (vd[\"ratings_disabled\"] == True).index])"
   ]
  },
  {
   "cell_type": "code",
   "execution_count": null,
   "metadata": {},
   "outputs": [],
   "source": []
  }
 ],
 "metadata": {
  "kernelspec": {
   "display_name": "Python 3",
   "language": "python",
   "name": "python3"
  },
  "language_info": {
   "codemirror_mode": {
    "name": "ipython",
    "version": 3
   },
   "file_extension": ".py",
   "mimetype": "text/x-python",
   "name": "python",
   "nbconvert_exporter": "python",
   "pygments_lexer": "ipython3",
   "version": "3.8.3"
  }
 },
 "nbformat": 4,
 "nbformat_minor": 4
}
